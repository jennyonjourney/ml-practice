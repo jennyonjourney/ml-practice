{
 "cells": [
  {
   "cell_type": "markdown",
   "id": "b31e33c1-0d88-4906-8ddf-ae685d5d14e3",
   "metadata": {},
   "source": [
    "# Machine Learning"
   ]
  },
  {
   "cell_type": "markdown",
   "id": "cd83f198-598b-49e9-8064-f5a998d79d67",
   "metadata": {},
   "source": [
    "This note taking is a short summary about the Machine Learning course by Dr. Andrew Ng provided at Coursera. (https://www.coursera.org/learn/machine-learning/lecture/PNeuX/what-is-machine-learning) There might be my thoughts inlcuded in the script below. Please feel free to contact me with any quesitons or corrections to be made."
   ]
  },
  {
   "cell_type": "markdown",
   "id": "8117c39a-ecd5-4ed2-a054-36f1b1660ba6",
   "metadata": {},
   "source": [
    "### What is Machine Learning?"
   ]
  },
  {
   "cell_type": "markdown",
   "id": "e20d0c58-4d73-4bb2-816a-c708ac93c9fc",
   "metadata": {},
   "source": [
    "Field of study that gives computers the ability to learn without being explicitly programmed. (by Arthur Samuel)"
   ]
  },
  {
   "cell_type": "markdown",
   "id": "ebc536a6-34a2-470b-92a5-f3c931c54cf5",
   "metadata": {},
   "source": [
    "- Supervised learning: course1,2\n",
    "- Unsupervised learning: course3\n",
    "- Recommender systems\n",
    "- Reinforcement learning"
   ]
  },
  {
   "cell_type": "markdown",
   "id": "85124fd1-617e-4b62-9d0a-da1150e9a948",
   "metadata": {},
   "source": [
    "#### Supervised learning"
   ]
  },
  {
   "cell_type": "markdown",
   "id": "088872f4-9478-4554-92c4-11431db9b66d",
   "metadata": {},
   "source": [
    "I would conclude that the key of Supervised learning is 'with knowing the answer y, train the machine with algorithms and predict future y only with given x', in other words, train the machine 'with' answers and make the machine smarter for 'prediction'."
   ]
  },
  {
   "cell_type": "markdown",
   "id": "41a2b17a-bf85-46ea-88a8-7e304a52a80b",
   "metadata": {},
   "source": [
    "Transcript: You give learning algorithm examples to learn from that includes the right answers, correct label y for a given input x, and is by seeing correct pairs of input x and desired output label y that the learning algorithm eventually learns to take just the input alone without the output label and gives a reasonably accurate \"prediction\" or \"guess\" of the output."
   ]
  },
  {
   "cell_type": "markdown",
   "id": "d8fa7bce-039a-4b50-8536-1502c6ca4665",
   "metadata": {},
   "source": [
    "- Example: spam or not, text translation, click ad or not, position of other cars\n",
    "- Inputs can be email, audio, texts, image and etc.\n",
    "- Classification is one of the supervised learning problems. (There are many other types like regression.)\n",
    "- Classification predict categories."
   ]
  },
  {
   "cell_type": "markdown",
   "id": "3a574f73-23fc-4b63-83b2-a0131125778e",
   "metadata": {},
   "source": [
    "#### Unsupervised learning"
   ]
  },
  {
   "cell_type": "markdown",
   "id": "85830ca4-99ec-45fd-9b02-6cc1ff756524",
   "metadata": {},
   "source": [
    "Without right answers, the machine learns data by itself. Data only comes with inputs x, but not output labels y. Algorithm has to find structure in the data. Therefore PCA, and other methods for dimensionality reduction can be categorized in 'unsupervised learning'."
   ]
  },
  {
   "cell_type": "markdown",
   "id": "b46df515-f18f-486a-a16c-d572ccde939a",
   "metadata": {},
   "source": [
    "- Example: clustering, segmentation, anomaly detection, dimensionality reduction"
   ]
  },
  {
   "cell_type": "code",
   "execution_count": null,
   "id": "4ff7a907-b2df-4aa2-be66-5d53a6bee7d0",
   "metadata": {},
   "outputs": [],
   "source": []
  },
  {
   "cell_type": "markdown",
   "id": "c80594cb-de64-4134-87e9-3b4c546f7e18",
   "metadata": {},
   "source": []
  }
 ],
 "metadata": {
  "kernelspec": {
   "display_name": "Python 3 (ipykernel)",
   "language": "python",
   "name": "python3"
  },
  "language_info": {
   "codemirror_mode": {
    "name": "ipython",
    "version": 3
   },
   "file_extension": ".py",
   "mimetype": "text/x-python",
   "name": "python",
   "nbconvert_exporter": "python",
   "pygments_lexer": "ipython3",
   "version": "3.9.13"
  }
 },
 "nbformat": 4,
 "nbformat_minor": 5
}
