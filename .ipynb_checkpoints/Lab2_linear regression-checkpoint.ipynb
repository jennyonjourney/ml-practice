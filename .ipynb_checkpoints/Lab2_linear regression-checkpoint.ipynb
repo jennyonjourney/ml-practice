{
 "cells": [
  {
   "cell_type": "markdown",
   "id": "4d718748-4f2b-46f1-9593-37a5d794de54",
   "metadata": {},
   "source": [
    "## Lab02 Linear regression"
   ]
  },
  {
   "cell_type": "code",
   "execution_count": 26,
   "id": "c66bd3b3-9f67-4a53-a169-73b468c84824",
   "metadata": {},
   "outputs": [
    {
     "name": "stdout",
     "output_type": "stream",
     "text": [
      "WARNING:tensorflow:From /Users/kyungeunjeon/opt/anaconda3/lib/python3.9/site-packages/tensorflow/python/compat/v2_compat.py:107: disable_resource_variables (from tensorflow.python.ops.variable_scope) is deprecated and will be removed in a future version.\n",
      "Instructions for updating:\n",
      "non-resource variables are not supported in the long term\n"
     ]
    }
   ],
   "source": [
    "import tensorflow.compat.v1 as tf\n",
    "tf.disable_v2_behavior()"
   ]
  },
  {
   "cell_type": "code",
   "execution_count": 27,
   "id": "af241ab1-0843-482a-b7ac-26ddeb7f74cb",
   "metadata": {},
   "outputs": [
    {
     "name": "stdout",
     "output_type": "stream",
     "text": [
      "2.9.1\n"
     ]
    }
   ],
   "source": [
    "print(tf.__version__)"
   ]
  },
  {
   "cell_type": "code",
   "execution_count": 28,
   "id": "17a15f52-e2be-4060-b656-4de61cbeb9c7",
   "metadata": {},
   "outputs": [],
   "source": [
    "tf.compat.v1.set_random_seed(777)  # for reproducibility"
   ]
  },
  {
   "cell_type": "code",
   "execution_count": 29,
   "id": "154aea63-882c-4fa7-86e6-17f02cc50597",
   "metadata": {},
   "outputs": [],
   "source": [
    "# X and Y data\n",
    "x_train = [1, 2, 3]\n",
    "y_train = [1, 2, 3]\n",
    "\n",
    "# Try to find values for W and b to compute y_data = x_data * W + b\n",
    "# We know that W should be 1 and b should be 0\n",
    "# But let TensorFlow figure it out\n",
    "W = tf.Variable(tf.random.normal([1]), name='weight')\n",
    "b = tf.Variable(tf.random.normal([1]), name='bias')\n",
    "\n",
    "# Our hypothesis XW+b\n",
    "hypothesis = x_train * W + b\n",
    "\n",
    "# cost/loss function\n",
    "cost = tf.reduce_mean(tf.square(hypothesis - y_train))"
   ]
  },
  {
   "cell_type": "code",
   "execution_count": 30,
   "id": "a8bf9b56-8567-47fa-accb-b9124935abb3",
   "metadata": {},
   "outputs": [],
   "source": [
    "# Minimize\n",
    "optimizer = tf.compat.v1.train.GradientDescentOptimizer(learning_rate=0.01)"
   ]
  },
  {
   "cell_type": "code",
   "execution_count": 31,
   "id": "0c00a726-d686-49b2-ad8e-82d80e40d01e",
   "metadata": {},
   "outputs": [],
   "source": [
    "train = optimizer.minimize(cost)"
   ]
  },
  {
   "cell_type": "code",
   "execution_count": 32,
   "id": "cf83a991-91da-488f-8b2e-934ab069074a",
   "metadata": {},
   "outputs": [
    {
     "name": "stderr",
     "output_type": "stream",
     "text": [
      "2024-01-07 15:11:00.591676: I tensorflow/compiler/mlir/mlir_graph_optimization_pass.cc:354] MLIR V1 optimization pass is not enabled\n"
     ]
    }
   ],
   "source": [
    "# Launch the graph in a session.\n",
    "sess = tf.compat.v1.Session()\n",
    "# Initializes global variables in the graph.\n",
    "sess.run(tf.compat.v1.global_variables_initializer())"
   ]
  },
  {
   "cell_type": "code",
   "execution_count": 33,
   "id": "cd5b48ac-ab01-45db-8f53-079385d88144",
   "metadata": {},
   "outputs": [
    {
     "name": "stdout",
     "output_type": "stream",
     "text": [
      "0 3.145388 [0.66989625] [-1.0927165]\n",
      "20 0.10981223 [1.2681301] [-0.7850232]\n",
      "40 0.07482805 [1.3110149] [-0.7237215]\n",
      "60 0.06773419 [1.3016819] [-0.687385]\n",
      "80 0.06151524 [1.288007] [-0.6548591]\n",
      "100 0.055869106 [1.2745196] [-0.624062]\n",
      "120 0.050741185 [1.2616227] [-0.5947313]\n",
      "140 0.04608396 [1.2493279] [-0.56678087]\n",
      "160 0.041854173 [1.2376103] [-0.54014415]\n",
      "180 0.038012624 [1.2264435] [-0.5147593]\n",
      "200 0.03452367 [1.2158015] [-0.4905675]\n",
      "220 0.03135495 [1.2056597] [-0.46751267]\n",
      "240 0.028477075 [1.1959944] [-0.44554132]\n",
      "260 0.025863333 [1.1867833] [-0.4246025]\n",
      "280 0.023489466 [1.1780051] [-0.40464762]\n",
      "300 0.021333491 [1.1696395] [-0.38563052]\n",
      "320 0.019375421 [1.1616669] [-0.3675073]\n",
      "340 0.017597063 [1.1540693] [-0.35023576]\n",
      "360 0.01598194 [1.1468287] [-0.33377594]\n",
      "380 0.014515045 [1.1399282] [-0.3180897]\n",
      "400 0.013182803 [1.133352] [-0.30314067]\n",
      "420 0.011972827 [1.1270851] [-0.28889415]\n",
      "440 0.010873924 [1.1211125] [-0.2753172]\n",
      "460 0.009875861 [1.1154207] [-0.2623783]\n",
      "480 0.008969416 [1.1099963] [-0.25004742]\n",
      "500 0.008146166 [1.1048269] [-0.23829606]\n",
      "520 0.00739847 [1.0999002] [-0.22709696]\n",
      "540 0.0067194183 [1.0952054] [-0.21642426]\n",
      "560 0.006102678 [1.0907311] [-0.2062531]\n",
      "580 0.0055425465 [1.0864671] [-0.19655998]\n",
      "600 0.0050338344 [1.0824034] [-0.18732244]\n",
      "620 0.004571806 [1.0785308] [-0.17851889]\n",
      "640 0.004152188 [1.0748401] [-0.1701292]\n",
      "660 0.003771085 [1.0713229] [-0.16213375]\n",
      "680 0.00342496 [1.067971] [-0.15451407]\n",
      "700 0.0031106044 [1.0647767] [-0.14725249]\n",
      "720 0.0028251063 [1.0617325] [-0.14033227]\n",
      "740 0.0025658072 [1.0588312] [-0.13373724]\n",
      "760 0.002330303 [1.0560664] [-0.12745203]\n",
      "780 0.002116423 [1.0534315] [-0.1214623]\n",
      "800 0.0019221703 [1.0509205] [-0.11575402]\n",
      "820 0.0017457483 [1.0485274] [-0.11031402]\n",
      "840 0.0015855146 [1.0462466] [-0.10512963]\n",
      "860 0.0014399892 [1.0440732] [-0.1001889]\n",
      "880 0.0013078178 [1.0420021] [-0.09548038]\n",
      "900 0.0011877794 [1.040028] [-0.09099315]\n",
      "920 0.0010787605 [1.0381469] [-0.08671681]\n",
      "940 0.000979749 [1.0363541] [-0.08264142]\n",
      "960 0.00088982325 [1.0346456] [-0.07875755]\n",
      "980 0.00080815173 [1.0330174] [-0.07505622]\n",
      "1000 0.00073397806 [1.0314656] [-0.07152887]\n",
      "1020 0.00066660874 [1.0299869] [-0.06816727]\n",
      "1040 0.00060542405 [1.0285777] [-0.06496368]\n",
      "1060 0.0005498568 [1.0272346] [-0.06191063]\n",
      "1080 0.00049938663 [1.0259546] [-0.05900102]\n",
      "1100 0.0004535508 [1.0247349] [-0.05622818]\n",
      "1120 0.00041192348 [1.0235724] [-0.05358565]\n",
      "1140 0.00037411661 [1.0224648] [-0.05106736]\n",
      "1160 0.00033977782 [1.0214089] [-0.04866744]\n",
      "1180 0.00030859176 [1.0204028] [-0.04638026]\n",
      "1200 0.00028026794 [1.0194436] [-0.04420048]\n",
      "1220 0.0002545437 [1.01853] [-0.04212313]\n",
      "1240 0.00023117774 [1.0176591] [-0.04014345]\n",
      "1260 0.00020996026 [1.0168293] [-0.03825681]\n",
      "1280 0.00019068806 [1.0160383] [-0.03645887]\n",
      "1300 0.00017318675 [1.0152845] [-0.03474544]\n",
      "1320 0.0001572904 [1.0145663] [-0.03311253]\n",
      "1340 0.00014285427 [1.0138817] [-0.03155637]\n",
      "1360 0.00012974125 [1.0132293] [-0.03007328]\n",
      "1380 0.00011783388 [1.0126076] [-0.02865994]\n",
      "1400 0.00010701886 [1.0120151] [-0.02731305]\n",
      "1420 9.71969e-05 [1.0114504] [-0.02602945]\n",
      "1440 8.827485e-05 [1.0109122] [-0.02480615]\n",
      "1460 8.0173544e-05 [1.0103996] [-0.02364041]\n",
      "1480 7.2815055e-05 [1.0099108] [-0.02252943]\n",
      "1500 6.613164e-05 [1.009445] [-0.02147065]\n",
      "1520 6.0061426e-05 [1.0090011] [-0.0204616]\n",
      "1540 5.4549066e-05 [1.0085781] [-0.01949997]\n",
      "1560 4.9543018e-05 [1.008175] [-0.01858355]\n",
      "1580 4.4995366e-05 [1.0077908] [-0.01771021]\n",
      "1600 4.0865376e-05 [1.0074246] [-0.01687789]\n",
      "1620 3.711482e-05 [1.0070758] [-0.0160847]\n",
      "1640 3.3708333e-05 [1.0067432] [-0.01532882]\n",
      "1660 3.0613985e-05 [1.0064262] [-0.01460843]\n",
      "1680 2.7804437e-05 [1.0061243] [-0.01392186]\n",
      "1700 2.5251886e-05 [1.0058364] [-0.01326755]\n",
      "1720 2.2934235e-05 [1.0055622] [-0.012644]\n",
      "1740 2.082954e-05 [1.0053008] [-0.0120498]\n",
      "1760 1.8917688e-05 [1.0050516] [-0.0114835]\n",
      "1780 1.7181686e-05 [1.0048143] [-0.01094382]\n",
      "1800 1.5604268e-05 [1.004588] [-0.01042954]\n",
      "1820 1.4172249e-05 [1.0043724] [-0.00993939]\n",
      "1840 1.2871329e-05 [1.004167] [-0.00947228]\n",
      "1860 1.1690267e-05 [1.0039711] [-0.00902718]\n",
      "1880 1.0617197e-05 [1.0037845] [-0.00860297]\n",
      "1900 9.642788e-06 [1.0036067] [-0.00819871]\n",
      "1920 8.7581175e-06 [1.0034372] [-0.0078134]\n",
      "1940 7.954163e-06 [1.0032756] [-0.00744624]\n",
      "1960 7.223971e-06 [1.0031217] [-0.00709631]\n",
      "1980 6.5614095e-06 [1.0029751] [-0.00676286]\n",
      "2000 5.959086e-06 [1.0028353] [-0.00644508]\n"
     ]
    }
   ],
   "source": [
    "# Fit the line\n",
    "for step in range(2001):\n",
    "    sess.run(train)\n",
    "    if step % 20 == 0:\n",
    "        print(step, sess.run(cost), sess.run(W), sess.run(b))"
   ]
  },
  {
   "cell_type": "code",
   "execution_count": 44,
   "id": "f59c46ed-0f8b-48c8-adf9-7e6639f4efe6",
   "metadata": {},
   "outputs": [],
   "source": [
    "# Now we can use X and Y in place of x_data and y_data\n",
    "# # placeholders for a tensor that will be always fed using feed_dict\n",
    "# See http://stackoverflow.com/questions/36693740/\n",
    "X = tf.compat.v1.placeholder(tf.float32, shape=[None])\n",
    "Y = tf.compat.v1.placeholder(tf.float32, shape=[None])"
   ]
  },
  {
   "cell_type": "code",
   "execution_count": 47,
   "id": "91455150-541c-45a5-84f8-312255b473f4",
   "metadata": {},
   "outputs": [],
   "source": [
    "# Our hypothesis XW+b\n",
    "hypothesis = X * W + b\n",
    "\n",
    "# cost/loss function\n",
    "cost = tf.math.reduce_mean(tf.square(hypothesis - Y))"
   ]
  },
  {
   "cell_type": "code",
   "execution_count": 49,
   "id": "01ef5e2d-8c86-4818-9892-52fbb65c1dfb",
   "metadata": {},
   "outputs": [],
   "source": [
    "# Minimize\n",
    "optimizer = tf.compat.v1.train.GradientDescentOptimizer(learning_rate=0.01)"
   ]
  },
  {
   "cell_type": "code",
   "execution_count": 61,
   "id": "981175df-8f46-4dbd-8923-ec72ef4c5ed3",
   "metadata": {},
   "outputs": [],
   "source": [
    "train = optimizer.minimize(cost)"
   ]
  },
  {
   "cell_type": "code",
   "execution_count": 65,
   "id": "67f3a98e-66e0-4d2a-b867-69c69dfb3606",
   "metadata": {},
   "outputs": [],
   "source": [
    "# Launch the graph in a session.\n",
    "sess = tf.compat.v1.Session()\n",
    "sess.run(tf.compat.v1.global_variables_initializer())"
   ]
  },
  {
   "cell_type": "code",
   "execution_count": 70,
   "id": "34ae1d4d-5cac-4490-9c34-5cf53e29a4b8",
   "metadata": {},
   "outputs": [
    {
     "name": "stdout",
     "output_type": "stream",
     "text": [
      "0 5.959019e-06 [1.0028353] [-0.0064451]\n",
      "20 5.412383e-06 [1.002702] [-0.00614225]\n",
      "40 4.9155315e-06 [1.002575] [-0.00585359]\n",
      "60 4.464435e-06 [1.0024539] [-0.00557849]\n",
      "80 4.054556e-06 [1.0023388] [-0.00531634]\n",
      "100 3.6826023e-06 [1.002229] [-0.00506657]\n",
      "120 3.344638e-06 [1.0021242] [-0.00482854]\n",
      "140 3.0377512e-06 [1.0020244] [-0.00460166]\n",
      "160 2.759051e-06 [1.0019293] [-0.00438545]\n",
      "180 2.5055685e-06 [1.0018386] [-0.00417937]\n",
      "200 2.2757663e-06 [1.0017521] [-0.00398296]\n",
      "220 2.0670302e-06 [1.0016699] [-0.00379584]\n",
      "240 1.8772915e-06 [1.0015914] [-0.00361748]\n",
      "260 1.7050482e-06 [1.0015166] [-0.00344753]\n",
      "280 1.5486639e-06 [1.0014455] [-0.00328559]\n",
      "300 1.4065314e-06 [1.0013776] [-0.00313128]\n",
      "320 1.2775869e-06 [1.0013127] [-0.00298416]\n",
      "340 1.160339e-06 [1.0012512] [-0.00284401]\n",
      "360 1.0540518e-06 [1.0011926] [-0.00271046]\n",
      "380 9.572819e-07 [1.0011365] [-0.00258318]\n",
      "400 8.694695e-07 [1.0010831] [-0.00246186]\n",
      "420 7.896424e-07 [1.0010322] [-0.00234623]\n",
      "440 7.1734274e-07 [1.0009838] [-0.00223606]\n",
      "460 6.516266e-07 [1.0009377] [-0.00213108]\n",
      "480 5.9185936e-07 [1.0008937] [-0.00203103]\n",
      "500 5.3758464e-07 [1.0008518] [-0.00193568]\n",
      "520 4.882275e-07 [1.0008116] [-0.00184483]\n",
      "540 4.4346257e-07 [1.0007734] [-0.00175825]\n",
      "560 4.028392e-07 [1.0007374] [-0.00167575]\n",
      "580 3.6594193e-07 [1.0007029] [-0.00159709]\n",
      "600 3.3239212e-07 [1.0006696] [-0.0015222]\n",
      "620 3.0201656e-07 [1.0006385] [-0.00145082]\n",
      "640 2.7433438e-07 [1.0006084] [-0.00138271]\n",
      "660 2.49171e-07 [1.0005798] [-0.00131792]\n",
      "680 2.2639459e-07 [1.0005529] [-0.00125606]\n",
      "700 2.0559115e-07 [1.0005267] [-0.00119724]\n",
      "720 1.868339e-07 [1.0005023] [-0.00114107]\n",
      "740 1.6971569e-07 [1.0004785] [-0.00108768]\n",
      "760 1.541971e-07 [1.0004563] [-0.00103662]\n",
      "780 1.4008724e-07 [1.0004349] [-0.00098816]\n",
      "800 1.2724051e-07 [1.0004144] [-0.00094174]\n",
      "820 1.1566184e-07 [1.0003953] [-0.00089773]\n",
      "840 1.0505314e-07 [1.0003763] [-0.00085567]\n",
      "860 9.541341e-08 [1.000359] [-0.00081552]\n",
      "880 8.669877e-08 [1.0003422] [-0.00077743]\n",
      "900 7.8752116e-08 [1.0003258] [-0.00074092]\n",
      "920 7.154599e-08 [1.0003109] [-0.00070615]\n",
      "940 6.506222e-08 [1.0002966] [-0.00067327]\n",
      "960 5.9091388e-08 [1.0002823] [-0.00064182]\n",
      "980 5.367434e-08 [1.0002692] [-0.0006116]\n",
      "1000 4.8801223e-08 [1.0002568] [-0.00058303]\n",
      "1020 4.434506e-08 [1.0002449] [-0.00055591]\n",
      "1040 4.028386e-08 [1.0002329] [-0.00052987]\n",
      "1060 3.6549093e-08 [1.0002221] [-0.00050489]\n",
      "1080 3.3225252e-08 [1.000212] [-0.00048125]\n",
      "1100 3.0239544e-08 [1.0002023] [-0.00045891]\n",
      "1120 2.7485143e-08 [1.0001928] [-0.00043765]\n",
      "1140 2.4968779e-08 [1.0001832] [-0.00041711]\n",
      "1160 2.2648578e-08 [1.0001748] [-0.0003974]\n",
      "1180 2.0572708e-08 [1.0001668] [-0.00037878]\n",
      "1200 1.872323e-08 [1.0001593] [-0.00036117]\n",
      "1220 1.7034935e-08 [1.000152] [-0.00034451]\n",
      "1240 1.5497863e-08 [1.0001448] [-0.00032862]\n",
      "1260 1.4067557e-08 [1.0001377] [-0.00031326]\n",
      "1280 1.2775662e-08 [1.0001311] [-0.00029837]\n",
      "1300 1.1603756e-08 [1.000125] [-0.00028427]\n",
      "1320 1.055037e-08 [1.0001193] [-0.00027094]\n",
      "1340 9.565842e-09 [1.0001138] [-0.00025835]\n",
      "1360 8.712665e-09 [1.0001087] [-0.00024642]\n",
      "1380 7.940378e-09 [1.0001038] [-0.00023515]\n",
      "1400 7.229309e-09 [1.0000991] [-0.0002244]\n",
      "1420 6.56822e-09 [1.0000943] [-0.00021406]\n",
      "1440 5.9537846e-09 [1.0000895] [-0.00020398]\n",
      "1460 5.4087557e-09 [1.0000851] [-0.00019418]\n",
      "1480 4.910594e-09 [1.0000812] [-0.00018488]\n",
      "1500 4.4457473e-09 [1.0000774] [-0.0001761]\n",
      "1520 4.0327386e-09 [1.0000738] [-0.0001678]\n",
      "1540 3.6687737e-09 [1.0000705] [-0.00015995]\n",
      "1560 3.3385479e-09 [1.0000672] [-0.00015254]\n",
      "1580 3.0429657e-09 [1.0000643] [-0.00014553]\n",
      "1600 2.7645275e-09 [1.0000614] [-0.00013889]\n",
      "1620 2.5290596e-09 [1.0000587] [-0.0001326]\n",
      "1640 2.3058166e-09 [1.0000561] [-0.00012666]\n",
      "1660 2.1059126e-09 [1.0000536] [-0.00012104]\n",
      "1680 1.923676e-09 [1.0000513] [-0.00011566]\n",
      "1700 1.7581385e-09 [1.0000489] [-0.00011049]\n",
      "1720 1.5980165e-09 [1.0000465] [-0.00010545]\n",
      "1740 1.4452155e-09 [1.0000441] [-0.0001005]\n",
      "1760 1.3084028e-09 [1.0000417] [-9.561418e-05]\n",
      "1780 1.1807325e-09 [1.0000396] [-9.0841444e-05]\n",
      "1800 1.0663067e-09 [1.0000377] [-8.63226e-05]\n",
      "1820 9.645392e-10 [1.0000358] [-8.204974e-05]\n",
      "1840 8.7222557e-10 [1.0000341] [-7.8000594e-05]\n",
      "1860 7.873761e-10 [1.0000324] [-7.417357e-05]\n",
      "1880 7.115896e-10 [1.0000309] [-7.055517e-05]\n",
      "1900 6.422975e-10 [1.0000294] [-6.712908e-05]\n",
      "1920 5.835024e-10 [1.000028] [-6.3904474e-05]\n",
      "1940 5.31345e-10 [1.0000267] [-6.0849543e-05]\n",
      "1960 4.816722e-10 [1.0000255] [-5.795712e-05]\n",
      "1980 4.3707496e-10 [1.0000243] [-5.5237964e-05]\n",
      "2000 3.9615244e-10 [1.0000232] [-5.266026e-05]\n"
     ]
    }
   ],
   "source": [
    "for step in range(2001):\n",
    "    cost_val, W_val, b_val, _ = sess.run([cost, W, b, train],\n",
    "                                         feed_dict={X: [1, 2, 3], Y: [1, 2, 3]})\n",
    "    if step % 20 == 0:\n",
    "        print(step, cost_val, W_val, b_val)"
   ]
  },
  {
   "cell_type": "code",
   "execution_count": 76,
   "id": "22cb4ee8-4b07-4a21-acad-5c8513ece75c",
   "metadata": {},
   "outputs": [],
   "source": [
    "# Model parameters\n",
    "W = tf.Variable([.3], tf.float32)\n",
    "b = tf.Variable([-.3], tf.float32)\n",
    "\n",
    "# Model input and output\n",
    "x = tf.placeholder(tf.float32)\n",
    "y = tf.placeholder(tf.float32)\n",
    "\n",
    "linear_model = x * W + b"
   ]
  },
  {
   "cell_type": "code",
   "execution_count": 77,
   "id": "96ffa5c6-476e-4852-9388-323bfefe8997",
   "metadata": {},
   "outputs": [
    {
     "name": "stdout",
     "output_type": "stream",
     "text": [
      "W: [-0.9999969] b: [0.9999908] loss: 5.6999738e-11\n"
     ]
    }
   ],
   "source": [
    "# cost/loss function\n",
    "loss = tf.reduce_sum(tf.square(linear_model - y))  # sum of the squares\n",
    "\n",
    "# optimizer\n",
    "optimizer = tf.train.GradientDescentOptimizer(0.01)\n",
    "train = optimizer.minimize(loss)\n",
    "\n",
    "x_train = [1, 2, 3, 4]\n",
    "y_train = [0, -1, -2, -3]\n",
    "\n",
    "# training loop\n",
    "init = tf.global_variables_initializer()\n",
    "sess = tf.Session()\n",
    "sess.run(init)  # reset values to wrong\n",
    "for i in range(1000):\n",
    "    sess.run(train, {x: x_train, y: y_train})\n",
    "\n",
    "# evaluate training accuracy\n",
    "curr_W, curr_b, curr_loss = sess.run([W, b, loss], {x: x_train, y: y_train})\n",
    "print(\"W: %s b: %s loss: %s\" % (curr_W, curr_b, curr_loss))"
   ]
  },
  {
   "cell_type": "markdown",
   "id": "0e4d2217-7c26-428c-8b91-951fd2cb47cb",
   "metadata": {},
   "source": [
    "## Model representation"
   ]
  },
  {
   "cell_type": "markdown",
   "id": "e4259f0c-b04b-4074-a987-8c05b833c533",
   "metadata": {},
   "source": [
    "This code is based on the lecture Lab02_Model_Representation_Soln (https://www.coursera.org/learn/machine-learning/ungradedLab/PhN1X/optional-lab-model-representation/lab?path=%2Fnotebooks%2FC1_W1_Lab02_Model_Representation_Soln.ipynb)."
   ]
  },
  {
   "cell_type": "code",
   "execution_count": 81,
   "id": "a09ea3d6-00d0-4814-8f93-e128058215ef",
   "metadata": {},
   "outputs": [],
   "source": [
    "import numpy as np\n",
    "import matplotlib.pyplot as plt"
   ]
  },
  {
   "cell_type": "code",
   "execution_count": 83,
   "id": "bcb0dcce-4d79-4e43-aaca-64ffd464961a",
   "metadata": {},
   "outputs": [
    {
     "name": "stdout",
     "output_type": "stream",
     "text": [
      "x_train = [1. 2.]\n",
      "y_train = [300. 500.]\n"
     ]
    }
   ],
   "source": [
    "x_train = np.array([1.0, 2.0])\n",
    "y_train = np.array([300.0, 500.0])\n",
    "print(f\"x_train = {x_train}\")\n",
    "print(f\"y_train = {y_train}\")"
   ]
  },
  {
   "cell_type": "code",
   "execution_count": 84,
   "id": "77a637a8-02b5-4ab1-be12-6c524ee16349",
   "metadata": {},
   "outputs": [
    {
     "name": "stdout",
     "output_type": "stream",
     "text": [
      "x_train.shape: (2,)\n",
      "Number of training examples is: 2\n"
     ]
    }
   ],
   "source": [
    "print(f\"x_train.shape: {x_train.shape}\")\n",
    "m = x_train.shape[0]\n",
    "print(f\"Number of training examples is: {m}\")"
   ]
  },
  {
   "cell_type": "code",
   "execution_count": 85,
   "id": "f09b2354-38c5-4584-ae22-9a83f8522784",
   "metadata": {},
   "outputs": [
    {
     "name": "stdout",
     "output_type": "stream",
     "text": [
      "(x^(0), y^(0)) = (1.0, 300.0)\n"
     ]
    }
   ],
   "source": [
    "i = 0 #i-th training set\n",
    "x_i = x_train[i]\n",
    "y_i = y_train[i]\n",
    "print(f\"(x^({i}), y^({i})) = ({x_i}, {y_i})\")"
   ]
  },
  {
   "cell_type": "code",
   "execution_count": 90,
   "id": "a3b2608c-e85e-41c8-9aec-f3851ec0abf2",
   "metadata": {},
   "outputs": [
    {
     "data": {
      "image/png": "[encoded data removed]",
      "text/plain": [
       "<Figure size 640x480 with 1 Axes>"
      ]
     },
     "metadata": {},
     "output_type": "display_data"
    }
   ],
   "source": [
    "plt.scatter(x_train, y_train, marker='x', c='r')\n",
    "plt.title(\"Housing Prices\")\n",
    "plt.ylabel(\"Price(in 1000s of dollars)\")\n",
    "plt.xlabel(\"Sixe (1000 sqft)\")\n",
    "plt.show()"
   ]
  },
  {
   "cell_type": "code",
   "execution_count": 92,
   "id": "305a955d-953c-4fa4-9815-9b74ef560a35",
   "metadata": {},
   "outputs": [
    {
     "name": "stdout",
     "output_type": "stream",
     "text": [
      "w: 100\n",
      "b: 100\n"
     ]
    }
   ],
   "source": [
    "w = 100\n",
    "b = 100\n",
    "print(f\"w: {w}\")\n",
    "print(f\"b: {b}\")"
   ]
  },
  {
   "cell_type": "code",
   "execution_count": 93,
   "id": "fc9b267e-a99e-48b2-9e0d-190dfd4e9795",
   "metadata": {},
   "outputs": [],
   "source": [
    "def compute_model_output(x,w,b):\n",
    "    m = x.shape[0]\n",
    "    f_wb = np.zeros(m)\n",
    "    for i in range(m):\n",
    "        f_wb[i] = w * x[i] + b\n",
    "    return f_wb"
   ]
  },
  {
   "cell_type": "code",
   "execution_count": 94,
   "id": "b85dede8-8ed2-4f34-9b8b-0fb4cd6c1256",
   "metadata": {},
   "outputs": [],
   "source": [
    "tmp_f_wb = compute_model_output(x_train, w, b)"
   ]
  },
  {
   "cell_type": "code",
   "execution_count": 95,
   "id": "a8ede8ef-848c-44cb-a43c-8d818f42085e",
   "metadata": {},
   "outputs": [
    {
     "data": {
      "image/png": "[encoded data removed]",
      "text/plain": [
       "<Figure size 640x480 with 1 Axes>"
      ]
     },
     "metadata": {},
     "output_type": "display_data"
    }
   ],
   "source": [
    "plt.plot(x_train, tmp_f_wb, c='b', label='Our prediction')\n",
    "plt.scatter(x_train, y_train, marker='x', c='r', label='Actual Values')\n",
    "plt.title(\"Housing Prices\")\n",
    "plt.ylabel(\"Price (in 1000s of dollars)\")\n",
    "plt.xlabel(\"Size (1000 sqft)\")\n",
    "plt.legend()\n",
    "plt.show()"
   ]
  },
  {
   "cell_type": "code",
   "execution_count": 97,
   "id": "8f5b807a-3f78-471c-9e69-fd16bb5ce097",
   "metadata": {},
   "outputs": [
    {
     "name": "stdout",
     "output_type": "stream",
     "text": [
      "$ 340 thousand dollars\n"
     ]
    }
   ],
   "source": [
    "w = 200\n",
    "b = 100\n",
    "x_i = 1.2\n",
    "cost_1200sqft = w * x_i + b\n",
    "print(f\"${cost_1200sqft: .0f} thousand dollars\")"
   ]
  }
 ],
 "metadata": {
  "kernelspec": {
   "display_name": "Python 3 (ipykernel)",
   "language": "python",
   "name": "python3"
  },
  "language_info": {
   "codemirror_mode": {
    "name": "ipython",
    "version": 3
   },
   "file_extension": ".py",
   "mimetype": "text/x-python",
   "name": "python",
   "nbconvert_exporter": "python",
   "pygments_lexer": "ipython3",
   "version": "3.9.13"
  }
 },
 "nbformat": 4,
 "nbformat_minor": 5
}
